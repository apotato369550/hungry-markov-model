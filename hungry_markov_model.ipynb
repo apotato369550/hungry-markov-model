{
  "nbformat": 4,
  "nbformat_minor": 0,
  "metadata": {
    "colab": {
      "provenance": [],
      "authorship_tag": "ABX9TyNRa87tV0TF2FEo1go7xthW",
      "include_colab_link": true
    },
    "kernelspec": {
      "name": "python3",
      "display_name": "Python 3"
    },
    "language_info": {
      "name": "python"
    }
  },
  "cells": [
    {
      "cell_type": "markdown",
      "metadata": {
        "id": "view-in-github",
        "colab_type": "text"
      },
      "source": [
        "<a href=\"https://colab.research.google.com/github/apotato369550/hungry-markov-model/blob/main/hungry_markov_model.ipynb\" target=\"_parent\"><img src=\"https://colab.research.google.com/assets/colab-badge.svg\" alt=\"Open In Colab\"/></a>"
      ]
    },
    {
      "cell_type": "markdown",
      "source": [
        "#Markov Model Project (Attempt #2)"
      ],
      "metadata": {
        "id": "fYVwoGaqsZQb"
      }
    },
    {
      "cell_type": "code",
      "execution_count": null,
      "metadata": {
        "id": "S4Q9PH1xN9t1"
      },
      "outputs": [],
      "source": [
        "from __future__ import absolute_import, division, print_function, unicode_literals\n",
        "\n",
        "import numpy as np\n",
        "import pandas as pd\n",
        "import matplotlib.pyplot as plt\n",
        "from IPython.display import clear_output\n",
        "from six.moves import urllib\n",
        "\n",
        "import tensorflow.compat.v2.feature_column as fc\n",
        "\n",
        "import tensorflow as tf\n",
        "import tensorflow_probability as tfp\n"
      ]
    },
    {
      "cell_type": "markdown",
      "source": [
        "## Declaring States"
      ],
      "metadata": {
        "id": "2SAfGvbNsaNK"
      }
    },
    {
      "cell_type": "code",
      "source": [
        "state = {\n",
        "    0: \"Pizza\",\n",
        "    1: \"Stew\",\n",
        "    2: \"Cookies\",\n",
        "    3: \"Nothing\",\n",
        "    4: \"Ice Cream\"\n",
        "}\n",
        "print(state)"
      ],
      "metadata": {
        "colab": {
          "base_uri": "https://localhost:8080/"
        },
        "id": "NyRy2y9Nsef6",
        "outputId": "29ce51e5-5667-4c9c-b4a7-83c610adaca6"
      },
      "execution_count": null,
      "outputs": [
        {
          "output_type": "stream",
          "name": "stdout",
          "text": [
            "{0: 'Pizza', 1: 'Stew', 2: 'Cookies', 3: 'Nothing', 4: 'Ice Cream'}\n"
          ]
        }
      ]
    },
    {
      "cell_type": "markdown",
      "source": [
        "## Making Transitional Matrix\n"
      ],
      "metadata": {
        "id": "HF1gwZFns9nj"
      }
    },
    {
      "cell_type": "code",
      "source": [
        "# fix matrix does not add up to one for some reason grrr\n",
        "transition_matrix = np.array([[0.4, 0.0, 0.3, 0.0, 0.3], [0.0, 0.0, 0.1, 0.8, 0.1], [0.0, 0.0, 0.8, 0.1, 0.1], [0.2, 0.7, 0.05, 0.0, 0.05], [0.2, 0.0, 0.1, 0.7, 0.0]])\n",
        "print(transition_matrix)"
      ],
      "metadata": {
        "colab": {
          "base_uri": "https://localhost:8080/"
        },
        "id": "ZBELja44tMHN",
        "outputId": "f8961297-4ef8-43e2-e4ce-f135077e53de"
      },
      "execution_count": null,
      "outputs": [
        {
          "output_type": "stream",
          "name": "stdout",
          "text": [
            "[[0.4  0.   0.3  0.   0.3 ]\n",
            " [0.   0.   0.1  0.8  0.1 ]\n",
            " [0.   0.   0.8  0.1  0.1 ]\n",
            " [0.2  0.7  0.05 0.   0.05]\n",
            " [0.2  0.   0.1  0.7  0.  ]]\n"
          ]
        }
      ]
    },
    {
      "cell_type": "markdown",
      "source": [
        "##Random Walk on Markov Chain"
      ],
      "metadata": {
        "id": "Ot78eabrxUY2"
      }
    },
    {
      "cell_type": "code",
      "source": [
        "n = 15\n",
        "start_state = 0\n",
        "print(state[start_state], \"--->\", end=\" \")\n",
        "previous_state = start_state\n",
        "\n",
        "# figure out how to normalize(?)\n",
        "while n - 1:\n",
        "  current_state = np.random.choice([0, 1, 2, 3, 4], p=transition_matrix[previous_state])\n",
        "  print(state[current_state], \"--->\", end=\" \")\n",
        "  previous_state = current_state\n",
        "  n -= 1\n",
        "\n",
        "print(\"Stop\")\n"
      ],
      "metadata": {
        "colab": {
          "base_uri": "https://localhost:8080/"
        },
        "id": "Mee2_drixP_w",
        "outputId": "4471bf8d-fcd0-4a42-f8a7-12234d5e4448"
      },
      "execution_count": null,
      "outputs": [
        {
          "output_type": "stream",
          "name": "stdout",
          "text": [
            "Pizza ---> Pizza ---> Cookies ---> Cookies ---> Cookies ---> Cookies ---> Cookies ---> Cookies ---> Cookies ---> Nothing ---> Stew ---> Nothing ---> Stew ---> Nothing ---> Stew ---> Stop\n"
          ]
        }
      ]
    },
    {
      "cell_type": "markdown",
      "source": [
        "## Following Core Algorithms Tutorial"
      ],
      "metadata": {
        "id": "DJAOozVoJxrx"
      }
    },
    {
      "cell_type": "markdown",
      "source": [
        "### Creating the Distributions"
      ],
      "metadata": {
        "id": "pJthVWGWKg6T"
      }
    },
    {
      "cell_type": "code",
      "source": [
        "tfd = tfp.distributions\n",
        "\n",
        "initial_distribution = tfd.Categorical(probs=[0.0, 0.0, 0.0, 1.0, 0.0])\n",
        "transition_distribution = tfd.Categorical(probs=[[0.3, 0.0, 0.35, 0.0, 0.35], [0.0, 0.0, 0.1, 0.8, 0.1], [0.0, 0.0, 0.8, 0.1, 0.1], [0.2, 0.7, 0.05, 0.0, 0.05], [0.2, 0.0, 0.1, 0.7, 0.0]])\n",
        "observation_distribution = tfd.Normal(loc=[30., 100., 10., 0., 15], scale=[0., 0., 0., 0., 0.])"
      ],
      "metadata": {
        "id": "4H6-mdvRJ0wX"
      },
      "execution_count": null,
      "outputs": []
    },
    {
      "cell_type": "markdown",
      "source": [
        "###Creating the Model"
      ],
      "metadata": {
        "id": "p4VlLxj1Kis5"
      }
    },
    {
      "cell_type": "code",
      "source": [
        "model = tfd.HiddenMarkovModel(\n",
        "    initial_distribution = initial_distribution,\n",
        "    transition_distribution = transition_distribution,\n",
        "    observation_distribution = observation_distribution,\n",
        "    num_steps = 100\n",
        ")"
      ],
      "metadata": {
        "id": "aQJxcgaQKmx2"
      },
      "execution_count": null,
      "outputs": []
    },
    {
      "cell_type": "markdown",
      "source": [
        "###Running the Model"
      ],
      "metadata": {
        "id": "r6NHi8OmKnrE"
      }
    },
    {
      "cell_type": "code",
      "source": [
        "mean = model.mean()\n",
        "\n",
        "with tf.compat.v1.Session() as sess:\n",
        "  print(mean.numpy())"
      ],
      "metadata": {
        "colab": {
          "base_uri": "https://localhost:8080/"
        },
        "id": "fSZ2WypdKpvf",
        "outputId": "fed6ddf3-8e6d-4be6-8530-d71cbb20d7e6"
      },
      "execution_count": null,
      "outputs": [
        {
          "output_type": "stream",
          "name": "stdout",
          "text": [
            "[ 0.       77.25001   6.125    50.365005 15.91     37.024403 21.017763\n",
            " 30.876324 23.471283 28.059067 24.633934 26.767431 25.182924 26.174826\n",
            " 25.44171  25.902784 25.563541 25.777838 25.620836 25.720425 25.64776\n",
            " 25.694033 25.660398 25.681896 25.666325 25.67631  25.669104 25.673738\n",
            " 25.6704   25.672556 25.671007 25.672009 25.671295 25.67176  25.671429\n",
            " 25.671644 25.67149  25.671593 25.671522 25.671566 25.671534 25.671555\n",
            " 25.671541 25.67155  25.671543 25.67155  25.671547 25.67155  25.671547\n",
            " 25.67155  25.671547 25.67155  25.671547 25.67155  25.671547 25.67155\n",
            " 25.671547 25.67155  25.671547 25.67155  25.671547 25.67155  25.671547\n",
            " 25.67155  25.671547 25.67155  25.671547 25.67155  25.671547 25.67155\n",
            " 25.671547 25.67155  25.671547 25.67155  25.671547 25.67155  25.671547\n",
            " 25.67155  25.671547 25.67155  25.671547 25.67155  25.671547 25.67155\n",
            " 25.671547 25.67155  25.671547 25.67155  25.671547 25.67155  25.671547\n",
            " 25.67155  25.671547 25.67155  25.671547 25.67155  25.671547 25.67155\n",
            " 25.671547 25.67155 ]\n"
          ]
        }
      ]
    },
    {
      "cell_type": "markdown",
      "source": [
        "##Monte Carlo"
      ],
      "metadata": {
        "id": "Fi-LkQqdRQzz"
      }
    },
    {
      "cell_type": "code",
      "source": [
        "# selects a random choice among all the states in the transition matrix\n",
        "# based on the probability of each choice\n",
        "# runs n times\n",
        "# the higher the value of n, the more accurate the result\n",
        "# Uses the \"law of averages\" which states that an event will occur over periods of time\n",
        "# at a frequency similar to its probability\n",
        "# all the randomness 'averages out'\n",
        "steps = 10**6 #1 million/1,000,000\n",
        "start_state = 0\n",
        "current_state = start_state\n",
        "pi = np.array([0, 0, 0, 0, 0])\n",
        "pi[start_state] = 1\n",
        "\n",
        "i = 0\n",
        "\n",
        "# fix error\n",
        "while i < steps:\n",
        "  current_state = np.random.choice([0, 1, 2, 3, 4], p=transition_matrix[current_state])\n",
        "  pi[current_state] += 1\n",
        "  i += 1\n",
        "\n",
        "print(\"π = \", pi/steps)\n",
        "\n",
        "## understand monte carlo approach\n",
        "# make comments"
      ],
      "metadata": {
        "id": "ww_xeX0kRj--",
        "colab": {
          "base_uri": "https://localhost:8080/"
        },
        "outputId": "55b1c430-38cc-4ae9-cacb-411cfff86606"
      },
      "execution_count": null,
      "outputs": [
        {
          "output_type": "stream",
          "name": "stdout",
          "text": [
            "π =  [0.115116 0.171852 0.36765  0.244762 0.100621]\n"
          ]
        }
      ]
    },
    {
      "cell_type": "markdown",
      "source": [
        "## Repeated Matrix Multiplication"
      ],
      "metadata": {
        "id": "z8GSGL5NZ_9K"
      }
    },
    {
      "cell_type": "code",
      "source": [
        "steps = 10**3\n",
        "matrix = transition_matrix\n",
        "i = 0\n",
        "while i < steps:\n",
        "  matrix = np.matmul(matrix, transition_matrix)\n",
        "  i += 1\n",
        "\n",
        "print(\"Transition Matrix^n = \\n\", matrix, \"\\n\")\n",
        "print(\"π = \", matrix[0])\n",
        "\n",
        "# make comments for this as well"
      ],
      "metadata": {
        "colab": {
          "base_uri": "https://localhost:8080/"
        },
        "id": "46KrGBBOaEN3",
        "outputId": "130cbe4f-105f-404d-e0df-c9abb40dd674"
      },
      "execution_count": null,
      "outputs": [
        {
          "output_type": "stream",
          "name": "stdout",
          "text": [
            "Transition Matrix^n = \n",
            " [[0.11495422 0.17090539 0.36927772 0.24415056 0.10071211]\n",
            " [0.11495422 0.17090539 0.36927772 0.24415056 0.10071211]\n",
            " [0.11495422 0.17090539 0.36927772 0.24415056 0.10071211]\n",
            " [0.11495422 0.17090539 0.36927772 0.24415056 0.10071211]\n",
            " [0.11495422 0.17090539 0.36927772 0.24415056 0.10071211]] \n",
            "\n",
            "π =  [0.11495422 0.17090539 0.36927772 0.24415056 0.10071211]\n"
          ]
        }
      ]
    },
    {
      "cell_type": "markdown",
      "source": [
        "##Finding Left Eigen Vectors"
      ],
      "metadata": {
        "id": "NuATsBaIbVdj"
      }
    },
    {
      "cell_type": "code",
      "source": [
        "import scipy.linalg\n",
        "\n",
        "print(transition_matrix)\n",
        "\n",
        "values, left = scipy.linalg.eig(transition_matrix, right=False, left=True)\n",
        "\n",
        "print(\"Left Eigen Vector values = \\n\", left, \"\\n\")\n",
        "print(\"Eigen Values = \\n\", values)\n",
        "\n",
        "# fix data normalization??\n",
        "\n",
        "# normalized dataVVV\n",
        "pi = left[:,0]\n",
        "pi_normalized = [x/np.sum(pi) for x in pi]\n",
        "print(pi_normalized)"
      ],
      "metadata": {
        "colab": {
          "base_uri": "https://localhost:8080/"
        },
        "id": "9YiFRrClbYIH",
        "outputId": "3eb20713-b95f-4a66-8ea1-9856bb69ce38"
      },
      "execution_count": null,
      "outputs": [
        {
          "output_type": "stream",
          "name": "stdout",
          "text": [
            "[[0.4  0.   0.3  0.   0.3 ]\n",
            " [0.   0.   0.1  0.8  0.1 ]\n",
            " [0.   0.   0.8  0.1  0.1 ]\n",
            " [0.2  0.7  0.05 0.   0.05]\n",
            " [0.2  0.   0.1  0.7  0.  ]]\n",
            "Left Eigen Vector values = \n",
            " [[ 0.14616112 -0.28769345  0.230582   -0.71094378 -0.25335955]\n",
            " [ 0.69821762 -0.64749369  0.34281217  0.26522947 -0.29618703]\n",
            " [-0.04579537  0.07425605  0.74071915  0.56365603  0.8764702 ]\n",
            " [-0.69098003  0.18361614  0.48973167  0.16413116 -0.2784458 ]\n",
            " [-0.10760334  0.67731495  0.20201431 -0.28207288 -0.04847782]] \n",
            "\n",
            "Eigen Values = \n",
            " [-0.69274393+0.j -0.19850587+0.j  1.        +0.j  0.43317892+0.j\n",
            "  0.65807088+0.j]\n",
            "[175533638610046.1, 838531358595145.5, -54998403513217.086, -829839302602577.5, -129227291089396.06]\n"
          ]
        }
      ]
    },
    {
      "cell_type": "markdown",
      "source": [
        "## Probability of a Chain Occuring"
      ],
      "metadata": {
        "id": "UBrr4h9vcn57"
      }
    },
    {
      "cell_type": "code",
      "source": [
        "def find_probability(sequence, transition_matrix, pi):\n",
        "  start_state = sequence[0]\n",
        "  probability = pi[start_state]\n",
        "  previous_state, current_state = start_state, start_state\n",
        "  for i in range(1, len(sequence)):\n",
        "    curr_state = sequence[i]\n",
        "    probability *= transition_matrix[previous_state][current_state]\n",
        "    previous_state = current_state\n",
        "  return probability\n",
        "\n",
        "print(\"Finding probability of [1, 2, 3, 0]: \", find_probability([1, 2, 3, 0], transition_matrix, pi_normalized))\n"
      ],
      "metadata": {
        "colab": {
          "base_uri": "https://localhost:8080/"
        },
        "id": "u4YHhKAPcr05",
        "outputId": "ed22bb7d-6226-4ca5-bd12-87e0af652f06"
      },
      "execution_count": null,
      "outputs": [
        {
          "output_type": "stream",
          "name": "stdout",
          "text": [
            "Finding probability of [1, 2, 3, 0]:  0.0\n"
          ]
        }
      ]
    }
  ]
}